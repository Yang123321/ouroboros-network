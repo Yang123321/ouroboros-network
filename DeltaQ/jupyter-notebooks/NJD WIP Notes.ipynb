{
 "cells": [
  {
   "cell_type": "markdown",
   "metadata": {},
   "source": [
    "# Things to Do \n",
    "\n",
    "\n",
    "\n",
    "------\n",
    "\n",
    "In no particular order:\n",
    " - update the shell.nix\n",
    "   - [ ] to work \"within\" IOHK enviroment \n",
    "   - need to sort out the following package dependecies so that operations (like \"printing\") work\n",
    "     - [ ] pandoc\n",
    "     - [ ] texlive.combined.scheme-full (to get xelatex _used by pandoc_)"
   ]
  },
  {
   "cell_type": "code",
   "execution_count": 2,
   "metadata": {},
   "outputs": [],
   "source": [
    "import TestModule"
   ]
  },
  {
   "cell_type": "code",
   "execution_count": 3,
   "metadata": {},
   "outputs": [
    {
     "data": {
      "text/plain": [
       "\"hallo world\""
      ]
     },
     "metadata": {},
     "output_type": "display_data"
    }
   ],
   "source": [
    "msg"
   ]
  },
  {
   "cell_type": "code",
   "execution_count": null,
   "metadata": {},
   "outputs": [],
   "source": []
  }
 ],
 "metadata": {
  "kernelspec": {
   "display_name": "Haskell - haskell",
   "language": "haskell",
   "name": "ihaskell_haskell"
  },
  "language_info": {
   "codemirror_mode": "ihaskell",
   "file_extension": ".hs",
   "name": "haskell",
   "pygments_lexer": "Haskell",
   "version": "8.4.4"
  }
 },
 "nbformat": 4,
 "nbformat_minor": 2
}
